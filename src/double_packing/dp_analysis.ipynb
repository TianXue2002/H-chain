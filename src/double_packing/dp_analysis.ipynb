{
 "cells": [
  {
   "cell_type": "code",
   "execution_count": 2,
   "id": "a86c290b",
   "metadata": {},
   "outputs": [
    {
     "name": "stdout",
     "output_type": "stream",
     "text": [
      "The autoreload extension is already loaded. To reload it, use:\n",
      "  %reload_ext autoreload\n"
     ]
    }
   ],
   "source": [
    "import sys\n",
    "import os\n",
    "import ctypes\n",
    "import copy\n",
    "\n",
    "\n",
    "# Get the absolute path of the utils directory\n",
    "utils_path = os.path.abspath(\"../lib\")\n",
    "sys.path.append(utils_path)\n",
    "%load_ext autoreload\n",
    "%autoreload 2"
   ]
  },
  {
   "cell_type": "code",
   "execution_count": 3,
   "id": "72394ea9",
   "metadata": {},
   "outputs": [],
   "source": [
    "import matplotlib.pyplot as plt\n",
    "import numpy as np\n",
    "import qiskit.qpy as qpy\n",
    "import pickle\n",
    "import json\n",
    "import matplotlib.patches as mpatches\n",
    "from numba import njit\n",
    "from numba.typed import List\n",
    "from plotting import *\n",
    "from readings import *\n",
    "from tile_process import *\n",
    "import random"
   ]
  },
  {
   "cell_type": "code",
   "execution_count": null,
   "id": "82663f2d",
   "metadata": {},
   "outputs": [],
   "source": [
    "seam_lst = [8,16]\n",
    "f_orbs = (2,2,2,2,2,2)\n",
    "read_epsilon = 1.0\n",
    "distance = 3.0\n",
    "epsilon_lst = np.linspace(3.1,3.9,9)\n",
    "epsilon_lst = 10**-(epsilon_lst)\n",
    "ratio_lst = np.linspace(1, 15, 15)\n",
    "# ratio_lst = np.concatenate((ratio_lst1, ratio_lst))\n",
    "\n",
    "path = f\"../../H_12_transition/prepacked/inter_transition_{distance+1}/enhanced_epsilon = {epsilon}.npy\"\n",
    "directory = os.path.dirname(path)\n",
    "os.makedirs(directory, exist_ok=True)\n",
    "\n",
    "for epsilon in epsilon_lst:\n",
    "    print(f\"cur epsilon is {epsilon}\")\n",
    "    prehead = \"../../H_12_cluster/\"\n",
    "    uop, all_g = read_uop(distance, read_epsilon, prehead)\n",
    "    # inter_single, intra_single, inter_control, intra_control, inter_double, intra_double = plot_uop(uop, all_g, 1e-5, seam_lst,epsilon_lst, f_orbs, total=True)\n",
    "    excitations = create_excitation(uop, all_g, epsilon)\n",
    "    excitations = orbital_reordering(excitations, f_orbs)\n",
    "    print(f\"excitation has length {len(excitations)}\")\n",
    "    post_gate_lst = np.zeros(len(ratio_lst))\n",
    "    print(len(ratio_lst))\n",
    "    for i in range(len(ratio_lst)):\n",
    "        print(f\"current ratio is {ratio_lst[i]}\")\n",
    "        separation = int(2*(ratio_lst[i] - 1))\n",
    "        print(f\"current separation is {separation}\")\n",
    "        bounding_width, placed_tiles_lst = preplace_pack_with_c(excitations, separation, seam_lst)\n",
    "        print(f\"C bounding width is {bounding_width}\")\n",
    "        post_gate_lst[i] = bounding_width * 25\n",
    "    post_gate_lst = np.array(post_gate_lst)\n",
    "    initial_gate = post_gate_lst[0]\n",
    "    diff = post_gate_lst - initial_gate\n",
    "    plt.plot(ratio_lst, diff/initial_gate)\n",
    "    plt.xlabel(\"inter/intra\")\n",
    "    plt.ylabel(\"increase of time(%)\")\n",
    "    post_gate_lst.tolist()\n",
    "    ratio_lst.tolist()\n",
    "    initial_gate.tolist()\n",
    "    result = [ratio_lst, post_gate_lst]\n",
    "    \n",
    "    np.save(f\"../../H_12_transition/double_packed/inter_transition_{distance+1}/enhanced_epsilon = {epsilon}.npy\", result)"
   ]
  }
 ],
 "metadata": {
  "kernelspec": {
   "display_name": "Python 3",
   "language": "python",
   "name": "python3"
  },
  "language_info": {
   "codemirror_mode": {
    "name": "ipython",
    "version": 3
   },
   "file_extension": ".py",
   "mimetype": "text/x-python",
   "name": "python",
   "nbconvert_exporter": "python",
   "pygments_lexer": "ipython3",
   "version": "3.12.5"
  }
 },
 "nbformat": 4,
 "nbformat_minor": 5
}
